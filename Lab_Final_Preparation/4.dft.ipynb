{
 "cells": [
  {
   "cell_type": "code",
   "execution_count": 45,
   "metadata": {},
   "outputs": [],
   "source": [
    "import numpy as np\n",
    "import matplotlib.pyplot as plt"
   ]
  },
  {
   "cell_type": "code",
   "execution_count": 46,
   "metadata": {},
   "outputs": [],
   "source": [
    "def dft(x_n):\n",
    "    N = len(x_n)\n",
    "    X_m = np.zeros(N, dtype=np.complex128)\n",
    "    for m in range(N):\n",
    "        for n in range(N):\n",
    "            X_m[m] += x_n[n] * np.exp(-2j *np.pi*n*m/N)\n",
    "\n",
    "    return X_m"
   ]
  },
  {
   "cell_type": "code",
   "execution_count": 47,
   "metadata": {},
   "outputs": [],
   "source": [
    "def idft(X_m):\n",
    "    N = len(X_m)\n",
    "    x_n = np.zeros(N, dtype=np.complex128)\n",
    "    for n in range(N):\n",
    "        for m in range(N):\n",
    "            x_n[n] += X_m[m] * np.exp(2j * np.pi * m * n / N)\n",
    "        x_n[n] = x_n[n] / N\n",
    "            \n",
    "    return x_n"
   ]
  },
  {
   "cell_type": "code",
   "execution_count": 57,
   "metadata": {},
   "outputs": [],
   "source": [
    "x_n = np.zeros(8)\n",
    "fs = 8000\n",
    "for n in range(8):\n",
    "    x_n[n] = np.sin(2 * np.pi * 1000 * n * 1/fs) + 0.5* np.sin(2 * np.pi * 2000 * n * 1/fs + 3 * np.pi/4)"
   ]
  },
  {
   "cell_type": "code",
   "execution_count": null,
   "metadata": {},
   "outputs": [],
   "source": [
    "y_"
   ]
  },
  {
   "cell_type": "code",
   "execution_count": null,
   "metadata": {},
   "outputs": [],
   "source": []
  },
  {
   "cell_type": "code",
   "execution_count": null,
   "metadata": {},
   "outputs": [],
   "source": []
  },
  {
   "cell_type": "code",
   "execution_count": null,
   "metadata": {},
   "outputs": [],
   "source": []
  }
 ],
 "metadata": {
  "kernelspec": {
   "display_name": "ML_DL",
   "language": "python",
   "name": "python3"
  },
  "language_info": {
   "codemirror_mode": {
    "name": "ipython",
    "version": 3
   },
   "file_extension": ".py",
   "mimetype": "text/x-python",
   "name": "python",
   "nbconvert_exporter": "python",
   "pygments_lexer": "ipython3",
   "version": "3.11.5"
  }
 },
 "nbformat": 4,
 "nbformat_minor": 2
}
