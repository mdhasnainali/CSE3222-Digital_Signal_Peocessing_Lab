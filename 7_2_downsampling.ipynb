{
 "cells": [
  {
   "cell_type": "code",
   "execution_count": 2,
   "metadata": {},
   "outputs": [],
   "source": [
    "import numpy as np\n",
    "from scipy.io import wavfile\n",
    "from scipy.signal import resample"
   ]
  },
  {
   "cell_type": "markdown",
   "metadata": {},
   "source": [
    "# Uscing Scipy"
   ]
  },
  {
   "cell_type": "code",
   "execution_count": 6,
   "metadata": {},
   "outputs": [
    {
     "name": "stdout",
     "output_type": "stream",
     "text": [
      "44100 262094\n",
      "47545\n",
      "Downsampled audio saved to output_8kHz.wav\n"
     ]
    },
    {
     "name": "stderr",
     "output_type": "stream",
     "text": [
      "/var/folders/lr/77q7001j7ts8dyg69j0vmc480000gn/T/ipykernel_31347/716071902.py:3: WavFileWarning: Chunk (non-data) not understood, skipping it.\n",
      "  fs, data = wavfile.read(input_file)\n"
     ]
    }
   ],
   "source": [
    "# Step 1: Read the 44kHz audio file\n",
    "input_file = './files/example_file.wav'\n",
    "fs, data = wavfile.read(input_file)\n",
    "print(fs, len(data))\n",
    "\n",
    "# Step 2: Calculate the number of samples for the new 8kHz rate\n",
    "new_fs = 8000  # Target sampling frequency (8kHz)\n",
    "num_samples = int(len(data) * new_fs / fs)  # Rescale number of samples\n",
    "\n",
    "# Step 3: Resample the audio data\n",
    "downsampled_data = resample(data, num_samples)\n",
    "print(len(downsampled_data))\n",
    "\n",
    "print(f\"Downsampled audio saved to {output_file}\")"
   ]
  },
  {
   "cell_type": "code",
   "execution_count": 7,
   "metadata": {},
   "outputs": [
    {
     "data": {
      "text/plain": [
       "47545.39682539683"
      ]
     },
     "execution_count": 7,
     "metadata": {},
     "output_type": "execute_result"
    }
   ],
   "source": [
    "(262094*8000)/44100"
   ]
  },
  {
   "cell_type": "code",
   "execution_count": null,
   "metadata": {},
   "outputs": [],
   "source": []
  }
 ],
 "metadata": {
  "kernelspec": {
   "display_name": "ml_tf",
   "language": "python",
   "name": "python3"
  },
  "language_info": {
   "codemirror_mode": {
    "name": "ipython",
    "version": 3
   },
   "file_extension": ".py",
   "mimetype": "text/x-python",
   "name": "python",
   "nbconvert_exporter": "python",
   "pygments_lexer": "ipython3",
   "version": "3.11.8"
  }
 },
 "nbformat": 4,
 "nbformat_minor": 2
}
